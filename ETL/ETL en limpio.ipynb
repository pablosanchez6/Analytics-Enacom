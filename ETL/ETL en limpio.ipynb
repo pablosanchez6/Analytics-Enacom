{
 "cells": [
  {
   "cell_type": "code",
   "execution_count": null,
   "metadata": {},
   "outputs": [],
   "source": [
    "import requests\n",
    "import csv\n",
    "import pandas as pd\n",
    "import difflib\n",
    "import numpy as np"
   ]
  },
  {
   "attachments": {},
   "cell_type": "markdown",
   "metadata": {},
   "source": [
    "Conseguimos todos los id de los dataset dessde el json del url abajo. con estos guid, se forma el url para las querys de los datasets."
   ]
  },
  {
   "cell_type": "code",
   "execution_count": null,
   "metadata": {},
   "outputs": [],
   "source": [
    "response = requests.get(\"https://api.datosabiertos.enacom.gob.ar/api/v2/datastreams/?auth_key=CL8hSAFmJRBqJpTClPPA6gx5XhmxXauMpGITST2r\")\n",
    "data = response.json()\n",
    "GUID = []\n",
    "\n",
    "for item in data:\n",
    "    if item['category_name'] == 'Acceso a Internet':\n",
    "        GUID.append(item['guid'])\n",
    "\n",
    "print(len(GUID))\n",
    "\n"
   ]
  },
  {
   "cell_type": "code",
   "execution_count": null,
   "metadata": {},
   "outputs": [],
   "source": [
    "URL1=\"http://api.datosabiertos.enacom.gob.ar/api/v2/datastreams/\"\n",
    "URL3=\"/data.csv/?auth_key=CL8hSAFmJRBqJpTClPPA6gx5XhmxXauMpGITST2r\"\n",
    "\n",
    "for i in range (0,len(GUID)):\n",
    "    URL = URL1 + GUID[i] + URL3\n",
    "    response = requests.get(URL)\n",
    "\n",
    "    nombre = GUID[i]\n",
    "    nombre = nombre + \".csv\"\n",
    "    print(nombre)\n",
    "\n",
    "    with open(nombre, 'wb') as f:\n",
    "        f.write(response.content)\n",
    "\n",
    "    # Guardar los datos en un archivo CSV\n",
    "\n",
    "    data = pd.read_csv(nombre)\n",
    "\n",
    "    columnas = data.columns\n",
    "\n",
    "\n",
    "        \n",
    "    data.replace(\"TucumÃ¡n\",\"Tucuman\",inplace=True)\n",
    "    data.replace(\"EntreRÃ­os\",\"EntreRios\",inplace=True)\n",
    "    data.replace(\"CÃ³rdoba\",\"Cordoba\",inplace=True)\n",
    "    data.replace(\"NeuquÃ©n\",\"Neuquen\",inplace=True)\n",
    "    data.replace(\"RÃ­oNegro\",\"RioNegro\",inplace=True)\n",
    "\n",
    "\n",
    "\n",
    "    for columna in columnas:\n",
    "        data[columna]= data[columna].fillna(0)\n",
    "        data[columna]= data[columna].astype(str)\n",
    "        data[columna]= data[columna].str.replace(\".\",\"\")\n",
    "        data[columna]= data[columna].replace(-0,0)\n",
    "        data[columna]= data[columna].replace(\"-0\",0)\n",
    "        data[columna]= data[columna].replace(\"- 0\",0)\n",
    "    \n",
    "\n",
    "    data.to_csv(nombre,index=False)"
   ]
  },
  {
   "cell_type": "code",
   "execution_count": null,
   "metadata": {},
   "outputs": [],
   "source": [
    "# hay que cambiar los titulos de las columnas que tiene ,\n",
    "ACCES_A_INTER_FIJO_16249 = pd.read_csv(\"ACCES-A-INTER-FIJO-16249.csv\")\n",
    "ACCES_A_INTER_FIJO_16249"
   ]
  },
  {
   "cell_type": "code",
   "execution_count": null,
   "metadata": {},
   "outputs": [],
   "source": [
    "# listo\n",
    "ACCES_A_INTER_FIJO_23248 = pd.read_csv(\"ACCES-A-INTER-FIJO-23248.csv\")\n",
    "ACCES_A_INTER_FIJO_23248[\"Año\"] = ACCES_A_INTER_FIJO_23248[\"AÃ±o\"]\n",
    "ACCES_A_INTER_FIJO_23248.drop(columns=\"AÃ±o\",inplace=True)\n",
    "ACCES_A_INTER_FIJO_23248 = ACCES_A_INTER_FIJO_23248.reindex(columns=['Año','Trimestre', 'Provincia', 'HASTA 512 kbps', '+ 512 Kbps - 1 Mbps',\n",
    "       '+ 1 Mbps - 6 Mbps', '+ 6 Mbps - 10 Mbps', '+ 10 Mbps - 20 Mbps',\n",
    "       '+ 20 Mbps - 30 Mbps', '+ 30 Mbps', 'OTROS', 'Total'])\n",
    "ACCES_A_INTER_FIJO_23248"
   ]
  },
  {
   "cell_type": "code",
   "execution_count": null,
   "metadata": {},
   "outputs": [],
   "source": [
    "# listo\n",
    "ACCESA_INTER_FIJO_62463 = pd.read_csv(\"ACCES-A-INTER-FIJO-62463.csv\")\n",
    "ACCESA_INTER_FIJO_62463.drop(columns=\"Unnamed: 13\",inplace=True)\n",
    "ACCESA_INTER_FIJO_62463"
   ]
  },
  {
   "cell_type": "code",
   "execution_count": null,
   "metadata": {},
   "outputs": [],
   "source": [
    "# Listo\n",
    "data = pd.read_csv(\"ACCES-A-INTER-FIJO-POR.csv\")\n",
    "data = data.rename(columns={'AÃ±o': 'Año'})\n",
    "data = data.rename(columns={\"Fibra Ã³ptica\":\"Fibra Óptica\"})\n",
    "data.replace(\"TucumÃ¡n\",\"Tucuman\",inplace=True)\n",
    "data.replace(\"EntreRÃ­os\",\"EntreRios\",inplace=True)\n",
    "data.replace(\"CÃ³rdoba\",\"Cordoba\",inplace=True)\n",
    "data.replace(\"NeuquÃ©n\",\"Neuquen\",inplace=True)\n",
    "data.replace(\"RÃ­oNegro\",\"RioNegro\",inplace=True)\n",
    "data"
   ]
  },
  {
   "cell_type": "code",
   "execution_count": null,
   "metadata": {},
   "outputs": [],
   "source": [
    "# Listo\n",
    "data = pd.read_csv(\"BANDA-ANCHA-Y-BANDA-ANGOS.csv\")\n",
    "data = data.rename(columns={'AÃ±o': 'Año'})\n",
    "data.replace(\"TucumÃ¡n\",\"Tucuman\",inplace=True)\n",
    "data.replace(\"EntreRÃ­os\",\"EntreRios\",inplace=True)\n",
    "data.replace(\"CÃ³rdoba\",\"Cordoba\",inplace=True)\n",
    "data.replace(\"NeuquÃ©n\",\"Neuquen\",inplace=True)\n",
    "data.replace(\"RÃ­oNegro\",\"RioNegro\",inplace=True)\n",
    "data"
   ]
  },
  {
   "cell_type": "code",
   "execution_count": null,
   "metadata": {},
   "outputs": [],
   "source": [
    "# Listo\n",
    "data = pd.read_csv(\"LISTA-DE-LOCAL-CON-CONEC.csv\")\n",
    "data = data.rename(columns={'SATELITAL\\r': 'SATELITAL'})\n",
    "data['SATELITAL'] = data['SATELITAL'].str.rstrip('\\r')\n",
    "data.replace(\"--\",0,inplace=True)\n",
    "data.replace(\"SI\",1,inplace=True)\n",
    "data"
   ]
  },
  {
   "cell_type": "code",
   "execution_count": null,
   "metadata": {},
   "outputs": [],
   "source": [
    "# Listo\n",
    "data = pd.read_csv(\"TOTAL-NACIO-DE-ACCES-48866.csv\")\n",
    "data = data.rename(columns={'AÃ±o': 'Año'})\n",
    "data.drop(columns=\"Periodo\",inplace=True)\n",
    "data[\"Año\"].astype(int)\n",
    "data"
   ]
  },
  {
   "cell_type": "code",
   "execution_count": null,
   "metadata": {},
   "outputs": [],
   "source": [
    "# Listo\n",
    "data = pd.read_csv(\"VELOC-PROME-DE-BAJAD-DE.csv\")\n",
    "data.drop(columns=\"Unnamed: 4\",inplace=True)\n",
    "data.drop(columns=\"Unnamed: 5\",inplace=True)\n",
    "data = data.rename(columns={'AÃ±o': 'Año'})\n",
    "data.replace(\"TucumÃ¡n\",\"Tucumán\",inplace=True)\n",
    "data.replace(\"EntreRÃ­os\",\"EntreRíos\",inplace=True)\n",
    "data.replace(\"CÃ³rdoba\",\"Córdoba\",inplace=True)\n",
    "data"
   ]
  },
  {
   "cell_type": "code",
   "execution_count": null,
   "metadata": {},
   "outputs": [],
   "source": [
    "import os\n",
    "\n",
    "# Ruta de la carpeta que quieres listar\n",
    "\n",
    "\n",
    "# Listar los archivos en la carpeta y guardar los nombres en una lista\n",
    "lista_archivos = os.listdir(r\"C:\\Users\\patpe\\Desktop\\PI03-Analytics\")\n",
    "\n",
    "# Imprimir la lista de nombres de archivos\n",
    "print(lista_archivos)"
   ]
  },
  {
   "cell_type": "code",
   "execution_count": null,
   "metadata": {},
   "outputs": [],
   "source": [
    "# 4 cambiar las comas el - 0\n",
    "i= 1\n",
    "\n",
    "nombre_archivo = lista_archivos[i]\n",
    "data = pd.read_csv(nombre_archivo)\n",
    "data = data.rename(columns={'AÃ±o': 'Año'})\n",
    "df=data\n",
    "\n",
    "data"
   ]
  }
 ],
 "metadata": {
  "kernelspec": {
   "display_name": "Python 3",
   "language": "python",
   "name": "python3"
  },
  "language_info": {
   "name": "python",
   "version": "3.10.6"
  },
  "orig_nbformat": 4
 },
 "nbformat": 4,
 "nbformat_minor": 2
}
